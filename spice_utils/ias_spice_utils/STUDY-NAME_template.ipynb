{
 "cells": [
  {
   "cell_type": "markdown",
   "metadata": {
    "pycharm": {
     "name": "#%% md\n"
    }
   },
   "source": [
    "## STUDY-NAME"
   ]
  },
  {
   "cell_type": "code",
   "execution_count": 1,
   "metadata": {
    "pycharm": {
     "name": "#%%\n"
    }
   },
   "outputs": [],
   "source": [
    "from os import getenv\n",
    "from sunraster.instr.spice import read_spice_l2_fits\n",
    "from astropy.wcs import FITSFixedWarning\n",
    "import warnings\n",
    "from ias_spice_utils.utils import read_studies_files_list_for_stp, make_summary, full_file_path\n",
    "\n",
    "warnings.filterwarnings('ignore', category=FITSFixedWarning, )\n",
    "\n",
    "study_name = 'STUDY-NAME'"
   ]
  },
  {
   "cell_type": "markdown",
   "metadata": {},
   "source": [
    "## List of files"
   ]
  },
  {
   "cell_type": "code",
   "execution_count": null,
   "metadata": {
    "pycharm": {
     "name": "#%%\n",
     "is_executing": true
    }
   },
   "outputs": [],
   "source": [
    "files = read_studies_files_list_for_stp()[study_name]\n",
    "files"
   ]
  },
  {
   "cell_type": "markdown",
   "source": [
    "## Summary plots"
   ],
   "metadata": {
    "collapsed": false
   }
  },
  {
   "cell_type": "code",
   "execution_count": null,
   "metadata": {
    "pycharm": {
     "name": "#%%\n",
     "is_executing": true
    },
    "scrolled": false
   },
   "outputs": [],
   "source": [
    "for f in files:\n",
    "    data_path = getenv('SPICE_ARCHIVE_DATA_PATH', default='/archive/SOLAR-ORBITER/SPICE')\n",
    "    file_path = full_file_path(f, data_path)\n",
    "    try:\n",
    "        raster = read_spice_l2_fits(file_path)\n",
    "    except (IOError,ValueError,AttributeError, TypeError):\n",
    "        print(f'Failed reading file {file_path}')\n",
    "        continue\n",
    "    make_summary(raster, f)"
   ]
  }
 ],
 "metadata": {
  "kernelspec": {
   "display_name": "Python 3",
   "language": "python",
   "name": "python3"
  },
  "language_info": {
   "codemirror_mode": {
    "name": "ipython",
    "version": 3
   },
   "file_extension": ".py",
   "mimetype": "text/x-python",
   "name": "python",
   "nbconvert_exporter": "python",
   "pygments_lexer": "ipython3",
   "version": "3.9.5"
  }
 },
 "nbformat": 4,
 "nbformat_minor": 1
}